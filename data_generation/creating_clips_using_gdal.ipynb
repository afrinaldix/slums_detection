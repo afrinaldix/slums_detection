{
 "cells": [
  {
   "cell_type": "code",
   "execution_count": 1,
   "metadata": {},
   "outputs": [],
   "source": [
    "##this code sequentially clips the satellite imagery by taking size (x,y) inputs. \n",
    "\n",
    "import os, gdal\n",
    "\n",
    "## The function creates the clips for various Types (refer paper) of maps at a go, can be edited to process one by one.\n",
    "\n",
    "def clip (filename,outpath):\n",
    "    in_path = '/media/deepank/086C617F6C616880/extra_space/vhr_sequencial_clips/'\n",
    "    input_filename = filename\n",
    "\n",
    "    out_path = '/media/deepank/086C617F6C616880/extra_space/vhr_clip_200x200/' + outpath\n",
    "    output_filename = ''\n",
    "\n",
    "    tile_size_x = 200\n",
    "    tile_size_y = 200\n",
    "\n",
    "    ## Gdal function to clip the imagery\n",
    "    \n",
    "    ds = gdal.Open(in_path + input_filename)\n",
    "    band = ds.GetRasterBand(1)\n",
    "    xsize = band.XSize\n",
    "    ysize = band.YSize\n",
    "\n",
    "    for i in range(0, xsize, tile_size_x):\n",
    "        for j in range(0, ysize, tile_size_y):\n",
    "            com_string = \"gdal_translate -of GTIFF -srcwin \" + str(i)+ \", \" + str(j) + \", \" + str(tile_size_x) + \", \" + str(tile_size_y) + \" \" + str(in_path) + str(input_filename) + \" \" + str(out_path) + str(output_filename) + str(i) + \"_\" + str(j) + \".tif\"\n",
    "            os.system(com_string)\n",
    "    print(\"finished\")\n"
   ]
  },
  {
   "cell_type": "code",
   "execution_count": 2,
   "metadata": {},
   "outputs": [
    {
     "name": "stdout",
     "output_type": "stream",
     "text": [
      "finished\n",
      "finished\n",
      "finished\n",
      "finished\n"
     ]
    }
   ],
   "source": [
    "input_filenames = ['jp22_stretched_1.tif','jp22_stretched_2.tif','jp22_stretched_3.tif','jp22_stretched_4.tif']\n",
    "outpath = ['vhr_1/','vhr_2/',\"vhr_3/\",\"vhr_4/\"]\n",
    "\n",
    "for each, each1 in zip(input_filenames,outpath):\n",
    "    clip(each,each1)"
   ]
  },
  {
   "cell_type": "code",
   "execution_count": null,
   "metadata": {},
   "outputs": [],
   "source": [
    "# gdaltindex doq_index.shp test_folder/*.tif  is a command executed from the terminal to create index for the clipped patches.\n",
    "## more on https://www.gdal.org/gdaltindex.html"
   ]
  }
 ],
 "metadata": {
  "kernelspec": {
   "display_name": "Python 3",
   "language": "python",
   "name": "python3"
  },
  "language_info": {
   "codemirror_mode": {
    "name": "ipython",
    "version": 3
   },
   "file_extension": ".py",
   "mimetype": "text/x-python",
   "name": "python",
   "nbconvert_exporter": "python",
   "pygments_lexer": "ipython3",
   "version": "3.6.7"
  }
 },
 "nbformat": 4,
 "nbformat_minor": 2
}
